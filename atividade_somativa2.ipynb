{
 "cells": [
  {
   "cell_type": "markdown",
   "id": "9c76ceba",
   "metadata": {},
   "source": [
    "# Pontifícia Universidade Católica do Paraná\n",
    "## Disciplina: Técnicas de Machine Learning\n",
    "## Alunos: Douglas Branco Pessanha Lopes e Fábio Henrique dos Santos\n",
    "## Atividade Somativa 2"
   ]
  },
  {
   "cell_type": "markdown",
   "id": "be30a646",
   "metadata": {},
   "source": [
    "Este notebook faz parte de um processo seletivo para estaǵio em uma grande consultoria. Como forma de demonstrar conhecimentos em python e algorítimos de machine learning, foram fornecidas uma série de datasets para que os autores pudessem escolher um e analisá-lo com a finalidade de extrair conhecimentos de um modelo.\n",
    "O dataset escolhido foi \"nba_stats\". Ele traz diversas estatísticas de jogodores de basquete da NBA no período de 1950 até 2017. Com base nas informações disponíveis foi desenvolvido um algorítimo capaz de prever o \"winshares\" do jogador."
   ]
  },
  {
   "cell_type": "code",
   "execution_count": 71,
   "id": "ba01b82c",
   "metadata": {},
   "outputs": [],
   "source": [
    "#bibliotecas importadas\n",
    "import pandas as pd # manipular datasets\n",
    "from sklearn.model_selection import train_test_split #fazer a divisão entre treinamento e teste\n",
    "from sklearn.svm import SVR #faz regressões possibilitando realizar predições\n",
    "from sklearn.preprocessing import RobustScaler #usado para converter textos (\"strings\") em dados numéricos\n",
    "from sklearn.preprocessing import OrdinalEncoder #usado para converter textos (\"strings\") em dados numéricos\n",
    "from sklearn.metrics import * #usado para calcular perfomance do modelo\n",
    "from sklearn.pipeline import Pipeline # cria os pipelines"
   ]
  },
  {
   "cell_type": "markdown",
   "id": "3a18f26a",
   "metadata": {},
   "source": [
    "Abaixo temos algumas informações do dataset. As categorias analisada são facilmente compreendidas por quem acompanha basquete e entende inglês. O dataset possui 24624 linhas e 22 colunas "
   ]
  },
  {
   "cell_type": "code",
   "execution_count": 72,
   "id": "f07b8b79",
   "metadata": {},
   "outputs": [
    {
     "name": "stdout",
     "output_type": "stream",
     "text": [
      "<class 'pandas.core.frame.DataFrame'>\n",
      "RangeIndex: 24624 entries, 0 to 24623\n",
      "Data columns (total 22 columns):\n",
      " #   Column                        Non-Null Count  Dtype  \n",
      "---  ------                        --------------  -----  \n",
      " 0   Ano                           24624 non-null  int64  \n",
      " 1   Posicao                       24624 non-null  object \n",
      " 2   Idade                         24616 non-null  float64\n",
      " 3   Jogos                         24624 non-null  int64  \n",
      " 4   TrueShootingPercentage        24538 non-null  float64\n",
      " 5   FreeThrowRate                 24525 non-null  float64\n",
      " 6   OffensiveWinShares            24585 non-null  float64\n",
      " 7   DefensiveWinShares            24585 non-null  float64\n",
      " 8   WinShares                     24585 non-null  float64\n",
      " 9   FieldGoals                    24624 non-null  int64  \n",
      " 10  FieldGoalAttempts             24624 non-null  int64  \n",
      " 11  FieldGoalPercentage           24525 non-null  float64\n",
      " 12  TwoPointFieldGoals            24624 non-null  int64  \n",
      " 13  TwoPointFieldGoalAttempts     24624 non-null  int64  \n",
      " 14  TwoPointFieldGoalPercentage   24496 non-null  float64\n",
      " 15  EffectiveFieldGoalPercentage  24525 non-null  float64\n",
      " 16  FreeThrows                    24624 non-null  int64  \n",
      " 17  FreeThrowAttempts             24624 non-null  int64  \n",
      " 18  FreeThrowPercentage           23766 non-null  float64\n",
      " 19  Assists                       24624 non-null  int64  \n",
      " 20  PersonalFouls                 24624 non-null  int64  \n",
      " 21  Points                        24624 non-null  int64  \n",
      "dtypes: float64(10), int64(11), object(1)\n",
      "memory usage: 4.1+ MB\n"
     ]
    }
   ],
   "source": [
    "df_nba_stats = pd.read_csv(\"nba_stats.csv\") #transformação de um aquivo csv num dataframe manupulável com a biblioteca pandas\n",
    "df_nba_stats.info() #fornece as informações sobre o dataset"
   ]
  },
  {
   "cell_type": "markdown",
   "id": "ad9facd4",
   "metadata": {},
   "source": [
    "Em seguida é feita a separação dos dados entre treino e teste, realizado os treinamento dos dados e mostradas as predições. Posteriormente são utilizadas métricas para medir a acurácia do modelo"
   ]
  },
  {
   "cell_type": "code",
   "execution_count": 73,
   "id": "71208e90",
   "metadata": {},
   "outputs": [],
   "source": [
    "df_nba_stats = df_nba_stats.drop(columns = [\"Ano\"]) #optou-se por eliminar a coluna ano por não interfir no modelo\n",
    "df_nba_stats = df_nba_stats.dropna() #optou-se por eliminar os valores nulos por causar pouco impacto no modelo"
   ]
  },
  {
   "cell_type": "code",
   "execution_count": 74,
   "id": "35e1a838",
   "metadata": {},
   "outputs": [],
   "source": [
    "#separa o dataframe entre treino e teste. A categoria alvo, aquela que estamos tentando prever, é a \"WinShares\"\n",
    "X_train, X_test, y_train, y_test = train_test_split(df_nba_stats.drop(\"WinShares\", axis=1), df_nba_stats[\"WinShares\"], test_size=0.25)"
   ]
  },
  {
   "cell_type": "code",
   "execution_count": 75,
   "id": "259e993a",
   "metadata": {},
   "outputs": [],
   "source": [
    "#cria-se o pipeline que encapsula o código facilitando seu uso posterior em novos datasets com informações semelhantes\n",
    "#dentro do pipeline estão os códigos para transformar os dados necessários no dataframe e para realizar o treinamento\n",
    "pipe_SVR = Pipeline([('encoder', OrdinalEncoder(handle_unknown='use_encoded_value', unknown_value=-1)),\n",
    "                        ('scaler', RobustScaler()),\n",
    "                        ('modelo', SVR())]).fit(X_train, y_train)"
   ]
  },
  {
   "cell_type": "code",
   "execution_count": 76,
   "id": "0e7f1983",
   "metadata": {},
   "outputs": [
    {
     "data": {
      "text/plain": [
       "'Resultados de y_pred_SVR: [0.12300268 0.04412869 1.02676665 ... 0.09031499 0.21070444 4.19805293]'"
      ]
     },
     "metadata": {},
     "output_type": "display_data"
    }
   ],
   "source": [
    "#executa o pipiline e mostra as predições\n",
    "y_pred_SVR = pipe_SVR.predict(X_test)\n",
    "display(f'Resultados de y_pred_SVR: {y_pred_SVR}')"
   ]
  },
  {
   "cell_type": "code",
   "execution_count": 77,
   "id": "6b99ae3e",
   "metadata": {},
   "outputs": [
    {
     "data": {
      "text/plain": [
       "'MSE: 0.9115328152350494'"
      ]
     },
     "metadata": {},
     "output_type": "display_data"
    },
    {
     "data": {
      "text/plain": [
       "'RMSE: 0.9547422768658824'"
      ]
     },
     "metadata": {},
     "output_type": "display_data"
    }
   ],
   "source": [
    "#São utilizadas duas métricas diferentes pra medir a acuracia do modelo\n",
    "display(f\"MSE: {mean_squared_error(y_test, y_pred_SVR)}\")\n",
    "display(f\"RMSE: {mean_squared_error(y_test, y_pred_SVR, squared=False)}\")"
   ]
  },
  {
   "cell_type": "markdown",
   "id": "62937944",
   "metadata": {},
   "source": [
    "## Conclusões\n",
    "As duas métricas utilizadas para verificar a acurácia do modelo são: MSE(mean squared error) e RMSE(root mean squared error). Quanto mais próximo de 0 melhor o modelo, e não há límite superior. É possível dizer que o modelo possui boa acuracia de acordo com as métricas utilizadas, todavia quase sempre é possível melhorar um algorítimo. Pode-se utilizar treinamentos de hiperparâmetros para buscar combinações melhores de parâmetros que afetam modelos.\n",
    "As métricas de regressão também podem ser usadas para séries temporais.\n"
   ]
  }
 ],
 "metadata": {
  "kernelspec": {
   "display_name": "Python 3",
   "language": "python",
   "name": "python3"
  },
  "language_info": {
   "codemirror_mode": {
    "name": "ipython",
    "version": 3
   },
   "file_extension": ".py",
   "mimetype": "text/x-python",
   "name": "python",
   "nbconvert_exporter": "python",
   "pygments_lexer": "ipython3",
   "version": "3.8.8"
  }
 },
 "nbformat": 4,
 "nbformat_minor": 5
}
